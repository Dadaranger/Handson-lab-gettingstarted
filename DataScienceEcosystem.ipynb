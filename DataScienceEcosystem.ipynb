{
 "cells": [
  {
   "cell_type": "markdown",
   "id": "6e8b1da5-e00d-4b6e-99a0-6cc012b6550c",
   "metadata": {},
   "source": [
    "# Data Science Tools and Ecosystem"
   ]
  },
  {
   "cell_type": "markdown",
   "id": "c93f0519-9901-4627-bff7-8bcf3e9dff71",
   "metadata": {},
   "source": [
    "## In this note book, data Science Tools and Ecosystem are summarized."
   ]
  },
  {
   "cell_type": "markdown",
   "id": "d694421b-598c-417b-b6fa-cbd28f807e3b",
   "metadata": {},
   "source": [
    "## **Some of the popular languages that Data Scientists use are:**\n",
    "- Python\n",
    "- R\n",
    "- C++"
   ]
  },
  {
   "cell_type": "markdown",
   "id": "a120ec8c-5f16-4cd7-9ade-b7ae12a422fe",
   "metadata": {},
   "source": [
    "## Some of the commonly used libraries used by Data Scientists include:\n",
    "1. caret\n",
    "2. Pandas\n",
    "3. ggplot"
   ]
  },
  {
   "cell_type": "markdown",
   "id": "65d9cf09-2aa8-4b66-9d83-40c86f72feb0",
   "metadata": {},
   "source": [
    "|Data Science Tools|\n",
    "-------------------\n",
    "|Rstudio|\n",
    "|JupyterNotebook|\n",
    "|JupyterLab|"
   ]
  },
  {
   "cell_type": "markdown",
   "id": "dda19e3c-2cb5-49c7-a232-e6c8f0406399",
   "metadata": {},
   "source": [
    "### *Below are a few examples of evaluating arithmetic expressions in Python*"
   ]
  },
  {
   "cell_type": "code",
   "execution_count": 1,
   "id": "4f20ee29-bbbb-450d-8a37-692665ac817b",
   "metadata": {
    "tags": []
   },
   "outputs": [
    {
     "data": {
      "text/plain": [
       "17"
      ]
     },
     "execution_count": 1,
     "metadata": {},
     "output_type": "execute_result"
    }
   ],
   "source": [
    "# This a simple arithmetic expression to mutiply then add integers\n",
    "(3*4)+5"
   ]
  },
  {
   "cell_type": "code",
   "execution_count": 2,
   "id": "bce68d3c-4bc6-43b3-9169-133ca8c446c3",
   "metadata": {
    "tags": []
   },
   "outputs": [
    {
     "data": {
      "text/plain": [
       "3.3333333333333335"
      ]
     },
     "execution_count": 2,
     "metadata": {},
     "output_type": "execute_result"
    }
   ],
   "source": [
    "# This will convert 200 minutes to hours by diving by 60\n",
    "200/60"
   ]
  },
  {
   "cell_type": "markdown",
   "id": "3f2a958a-c66c-4923-b76c-1bf378a751dd",
   "metadata": {},
   "source": [
    "## Author \n",
    "    David"
   ]
  },
  {
   "cell_type": "code",
   "execution_count": null,
   "id": "e562a206-33d6-428f-a830-e3eb9363b588",
   "metadata": {},
   "outputs": [],
   "source": []
  }
 ],
 "metadata": {
  "kernelspec": {
   "display_name": "Python",
   "language": "python",
   "name": "conda-env-python-py"
  },
  "language_info": {
   "codemirror_mode": {
    "name": "ipython",
    "version": 3
   },
   "file_extension": ".py",
   "mimetype": "text/x-python",
   "name": "python",
   "nbconvert_exporter": "python",
   "pygments_lexer": "ipython3",
   "version": "3.7.12"
  }
 },
 "nbformat": 4,
 "nbformat_minor": 5
}
